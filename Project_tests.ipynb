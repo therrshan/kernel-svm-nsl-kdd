{
  "cells": [
    {
      "cell_type": "code",
      "execution_count": 2,
      "metadata": {
        "id": "f8XgtP9SRQV9"
      },
      "outputs": [],
      "source": [
        "import numpy as np\n",
        "import pandas as pd\n",
        "import matplotlib.pyplot as plt\n",
        "from sklearn.feature_selection import RFE\n",
        "from sklearn.model_selection import GridSearchCV\n",
        "from sklearn.ensemble import RandomForestClassifier\n",
        "from sklearn import metrics\n",
        "from sklearn.svm import SVC"
      ]
    },
    {
      "cell_type": "code",
      "execution_count": 3,
      "metadata": {
        "id": "CiBhXnhjRU-j"
      },
      "outputs": [],
      "source": [
        "train_binary_fs = pd.read_csv('/content/drive/MyDrive/ML-Data/scaled_train_binary_feature_selection.csv')\n",
        "test_binary_fs = pd.read_csv('/content/drive/MyDrive/ML-Data/scaled_test_binary_feature_selection.csv')\n",
        "\n",
        "#train_binary = pd.read_csv('/content/drive/MyDrive/ML-Data/scaled_train_binary.csv')\n",
        "#test_binary = pd.read_csv('/content/drive/MyDrive/ML-Data/scaled_test_binary.csv')\n",
        "\n",
        "#train_fs = pd.read_csv('/content/drive/MyDrive/ML-Data/scaled_train_feature_selection.csv')\n",
        "#test_fs = pd.read_csv('/content/drive/MyDrive/ML-Data/scaled_test_feature_selection.csv')\n",
        "\n",
        "#train = pd.read_csv('/content/drive/MyDrive/ML-Data/scaled_train.csv')\n",
        "#test = pd.read_csv('/content/drive/MyDrive/ML-Data/scaled_test.csv')\n",
        "\n",
        "def get_XY(data):\n",
        "  X = data.drop(['labels'] , axis=1).values\n",
        "  y = data['labels'].values\n",
        "\n",
        "  return X,y\n",
        "\n",
        "#X_train_binary, y_train_binary = get_XY(train_binary)\n",
        "#X_test_binary, y_test_binary = get_XY(test_binary)"
      ]
    },
    {
      "cell_type": "code",
      "execution_count": 4,
      "metadata": {
        "id": "ci6gSfKZSsPp"
      },
      "outputs": [],
      "source": [
        "#X_train, y_train = get_XY(train)\n",
        "#X_test, y_test = get_XY(test)\n",
        "\n",
        "#X_train_binary, y_train_binary = get_XY(train_binary)\n",
        "#X_test_binary, y_test_binary = get_XY(test_binary)\n",
        "\n",
        "#X_train_fs, y_train_fs = get_XY(train_fs)\n",
        "#X_test_fs, y_test_fs = get_XY(test_fs)\n",
        "\n",
        "X_train_binary_fs, y_train_binary_fs = get_XY(train_binary_fs)\n",
        "X_test_binary_fs, y_test_binary_fs = get_XY(test_binary_fs)"
      ]
    },
    {
      "cell_type": "code",
      "execution_count": 5,
      "metadata": {
        "id": "nvoed-icRd-C"
      },
      "outputs": [],
      "source": [
        "def svm(X_trn, y_trn, X_tst, y_tst):\n",
        "  rbf_svm = SVC(C=0.1, gamma='scale', kernel='rbf')\n",
        "\n",
        "  rbf_svm.fit(X_trn, y_trn)\n",
        "\n",
        "  y_pred = rbf_svm.predict(X_tst)\n",
        "\n",
        "  print(\"Accuracy:\",metrics.accuracy_score(y_tst, y_pred))\n",
        "  return y_pred"
      ]
    },
    {
      "cell_type": "code",
      "execution_count": 6,
      "metadata": {
        "id": "h4-A0vttSHzT"
      },
      "outputs": [],
      "source": [
        "def rfc(X_trn, y_trn, X_tst, y_tst):\n",
        "  rf_classifier = RandomForestClassifier(n_estimators=200, max_depth=20, min_samples_leaf=2)\n",
        "\n",
        "  rf_classifier.fit(X_trn, y_trn)\n",
        "\n",
        "  y_pred = rf_classifier.predict(X_tst)\n",
        "\n",
        "  accuracy = metrics.accuracy_score(y_tst, y_pred)\n",
        "  print(\"Test Set Accuracy:\", accuracy)\n",
        "\n",
        "  return y_pred"
      ]
    },
    {
      "cell_type": "code",
      "execution_count": 7,
      "metadata": {
        "colab": {
          "base_uri": "https://localhost:8080/"
        },
        "id": "Q5nhWl8rbcyZ",
        "outputId": "93c48256-b566-445f-dd17-3cb02f218cc2"
      },
      "outputs": [
        {
          "name": "stdout",
          "output_type": "stream",
          "text": [
            "Accuracy: 0.9056511710432931\n",
            "Accuracy: 0.9688028387035317\n",
            "Test Set Accuracy: 0.9058286018452804\n",
            "Test Set Accuracy: 0.9999285561191684\n",
            "Accuracy: 0.8940738112136267\n",
            "Accuracy: 0.8873314407381121\n",
            "Test Set Accuracy: 0.8773509581263307\n",
            "Test Set Accuracy: 0.8754879347054648\n"
          ]
        }
      ],
      "source": [
        "#pred_binary_svm = svm(X_train_binary, y_train_binary, X_test_binary, y_test_binary)\n",
        "pred_binary_svm_fs = svm(X_train_binary_fs, y_train_binary_fs, X_test_binary_fs, y_test_binary_fs)\n",
        "\n",
        "#pred_binary_rfc = rfc(X_train_binary, y_train_binary, X_test_binary, y_test_binary)\n",
        "pred_binary_rfc_fs = rfc(X_train_binary_fs, y_train_binary_fs, X_test_binary_fs, y_test_binary_fs)\n",
        "\n",
        "#pred_svm = svm(X_train, y_train, X_test, y_test)\n",
        "#pred_svm_fs = svm(X_train_fs, y_train_fs, X_test_fs, y_test_fs)\n",
        "\n",
        "#pred_rfc = rfc(X_train, y_train, X_test, y_test)\n",
        "#pred_rfc_fs = rfc(X_train_fs, y_train_fs, X_test_fs, y_test_fs)"
      ]
    },
    {
      "cell_type": "code",
      "execution_count": 27,
      "metadata": {
        "id": "n4jX3FgUbW2U"
      },
      "outputs": [],
      "source": [
        "predictions = {\n",
        "    #\"SVM (Binary)\": pred_binary_svm,\n",
        "    \"SVM (Binary + Feature Selection)\": pred_binary_svm_fs,\n",
        "    #\"RFC (Binary)\": pred_binary_rfc,\n",
        "    \"RFC (Binary + Feature Selection)\": pred_binary_rfc_fs,\n",
        "    #\"SVM (Multi Class)\": pred_svm,\n",
        "    #\"SVM (Multi Class + Feature Selection)\": pred_svm_fs,\n",
        "    #\"RFC (Multi Class)\": pred_rfc,\n",
        "    #\"RFC (Multi Class + Feature Selection)\": pred_rfc_fs\n",
        "}"
      ]
    },
    {
      "cell_type": "code",
      "execution_count": 28,
      "metadata": {
        "id": "TxZu9fQ2btqK"
      },
      "outputs": [],
      "source": [
        "labels = {\n",
        "    #\"SVM (Binary)\": y_test_binary,\n",
        "    \"SVM (Binary + Feature Selection)\": y_test_binary_fs,\n",
        "    #\"RFC (Binary)\": y_test_binary,\n",
        "    \"RFC (Binary + Feature Selection)\": y_test_binary_fs,\n",
        "    #\"SVM (Multi Class)\": y_test,\n",
        "    #\"SVM (Multi Class + Feature Selection)\": y_test_fs,\n",
        "    #\"RFC (Multi Class)\": y_test,\n",
        "    #\"RFC (Multi Class + Feature Selection)\": y_test_fs\n",
        "}"
      ]
    },
    {
      "cell_type": "code",
      "execution_count": 25,
      "metadata": {
        "id": "HM-TrWf9UPTP"
      },
      "outputs": [],
      "source": [
        "def plot_evaluation_metrics(y_true, y_pred):\n",
        "    fig, axes = plt.subplots(1, 3, figsize=(18, 6))\n",
        "\n",
        "    # Confusion Matrix\n",
        "    cm = metrics.confusion_matrix(y_true, y_pred)\n",
        "    axes[0].imshow(cm, cmap=plt.cm.Blues, interpolation='nearest')\n",
        "    axes[0].set(title='Confusion Matrix', xlabel='Predicted label', ylabel='True label')\n",
        "    for i in range(cm.shape[0]):\n",
        "        for j in range(cm.shape[1]):\n",
        "            axes[0].text(j, i, format(cm[i, j], 'd'), horizontalalignment=\"center\", color=\"white\" if cm[i, j] > cm.max() / 2 else \"black\")\n",
        "\n",
        "    report = metrics.classification_report(y_true, y_pred)\n",
        "\n",
        "    # ROC Curve\n",
        "    fpr, tpr, thresholds = metrics.roc_curve(y_true, y_pred)\n",
        "    roc_auc = metrics.auc(fpr, tpr)\n",
        "    axes[1].plot(fpr, tpr, color='darkorange', lw=2, label='ROC curve (area = %0.2f)' % roc_auc)\n",
        "    axes[1].plot([0, 1], [0, 1], color='navy', lw=2, linestyle='--')\n",
        "    axes[1].set(title='Receiver Operating Characteristic (ROC) Curve', xlabel='False Positive Rate', ylabel='True Positive Rate')\n",
        "    axes[1].legend(loc=\"lower right\")\n",
        "\n",
        "    # Precision-Recall Curve\n",
        "    precision, recall, _ = metrics.precision_recall_curve(y_true, y_pred)\n",
        "    pr_auc = metrics.auc(recall, precision)\n",
        "    axes[2].plot(recall, precision, color='blue', lw=2, label='Precision-Recall curve (area = %0.2f)' % pr_auc)\n",
        "    axes[2].set(title='Precision-Recall Curve', xlabel='Recall', ylabel='Precision')\n",
        "    axes[2].legend(loc=\"lower left\")\n",
        "\n",
        "    plt.tight_layout()\n",
        "    plt.show()\n",
        "\n",
        "    return report\n"
      ]
    },
    {
      "cell_type": "code",
      "execution_count": 31,
      "metadata": {
        "colab": {
          "base_uri": "https://localhost:8080/"
        },
        "id": "L8djwqs9ZZb_",
        "outputId": "05a2124a-cc07-434a-c0af-42179e4900dd"
      },
      "outputs": [
        {
          "name": "stdout",
          "output_type": "stream",
          "text": [
            "SVM (Binary)\n",
            "              precision    recall  f1-score   support\n",
            "\n",
            "           0       0.98      0.83      0.90     11299\n",
            "           1       0.85      0.98      0.91     11245\n",
            "\n",
            "    accuracy                           0.91     22544\n",
            "   macro avg       0.92      0.91      0.91     22544\n",
            "weighted avg       0.92      0.91      0.91     22544\n",
            "\n",
            "SVM (Binary + Feature Selection)\n",
            "              precision    recall  f1-score   support\n",
            "\n",
            "           0       0.98      0.95      0.97     58630\n",
            "           1       0.96      0.98      0.97     67343\n",
            "\n",
            "    accuracy                           0.97    125973\n",
            "   macro avg       0.97      0.97      0.97    125973\n",
            "weighted avg       0.97      0.97      0.97    125973\n",
            "\n",
            "RFC (Binary)\n",
            "              precision    recall  f1-score   support\n",
            "\n",
            "           0       0.94      0.87      0.90     11299\n",
            "           1       0.88      0.94      0.91     11245\n",
            "\n",
            "    accuracy                           0.91     22544\n",
            "   macro avg       0.91      0.91      0.91     22544\n",
            "weighted avg       0.91      0.91      0.91     22544\n",
            "\n",
            "RFC (Binary + Feature Selection)\n",
            "              precision    recall  f1-score   support\n",
            "\n",
            "           0       1.00      1.00      1.00     58630\n",
            "           1       1.00      1.00      1.00     67343\n",
            "\n",
            "    accuracy                           1.00    125973\n",
            "   macro avg       1.00      1.00      1.00    125973\n",
            "weighted avg       1.00      1.00      1.00    125973\n",
            "\n",
            "SVM (Multi Class)\n",
            "              precision    recall  f1-score   support\n",
            "\n",
            "           0       0.97      0.91      0.94      8095\n",
            "           1       0.94      0.78      0.85      2157\n",
            "           2       0.90      0.01      0.02      1009\n",
            "           3       0.70      0.37      0.48        38\n",
            "           4       0.85      0.99      0.91     11245\n",
            "\n",
            "    accuracy                           0.89     22544\n",
            "   macro avg       0.87      0.61      0.64     22544\n",
            "weighted avg       0.90      0.89      0.87     22544\n",
            "\n",
            "SVM (Multi Class + Feature Selection)\n",
            "              precision    recall  f1-score   support\n",
            "\n",
            "           0       0.96      0.90      0.93      8095\n",
            "           1       0.92      0.75      0.83      2157\n",
            "           2       0.80      0.01      0.02      1009\n",
            "           3       0.68      0.39      0.50        38\n",
            "           4       0.84      0.98      0.91     11245\n",
            "\n",
            "    accuracy                           0.89     22544\n",
            "   macro avg       0.84      0.61      0.64     22544\n",
            "weighted avg       0.89      0.89      0.87     22544\n",
            "\n",
            "RFC (Multi Class)\n",
            "              precision    recall  f1-score   support\n",
            "\n",
            "           0       0.99      0.87      0.93      8095\n",
            "           1       0.70      0.90      0.79      2157\n",
            "           2       0.96      0.02      0.04      1009\n",
            "           3       1.00      0.11      0.19        38\n",
            "           4       0.85      0.96      0.90     11245\n",
            "\n",
            "    accuracy                           0.88     22544\n",
            "   macro avg       0.90      0.57      0.57     22544\n",
            "weighted avg       0.89      0.88      0.86     22544\n",
            "\n",
            "RFC (Multi Class + Feature Selection)\n",
            "              precision    recall  f1-score   support\n",
            "\n",
            "           0       0.97      0.90      0.94      8095\n",
            "           1       0.69      0.86      0.77      2157\n",
            "           2       0.87      0.01      0.03      1009\n",
            "           3       0.71      0.13      0.22        38\n",
            "           4       0.86      0.94      0.90     11245\n",
            "\n",
            "    accuracy                           0.88     22544\n",
            "   macro avg       0.82      0.57      0.57     22544\n",
            "weighted avg       0.88      0.88      0.86     22544\n",
            "\n"
          ]
        }
      ],
      "source": [
        "for x,y in predictions.items():\n",
        "  report = plot_evaluation_metrics(labels[x], y)\n",
        "\n"
      ]
    },
    {
      "cell_type": "code",
      "execution_count": 30,
      "metadata": {
        "id": "3JkHDuZnZjIm"
      },
      "outputs": [],
      "source": []
    }
  ],
  "metadata": {
    "colab": {
      "provenance": []
    },
    "kernelspec": {
      "display_name": "Python 3",
      "name": "python3"
    },
    "language_info": {
      "name": "python"
    }
  },
  "nbformat": 4,
  "nbformat_minor": 0
}
